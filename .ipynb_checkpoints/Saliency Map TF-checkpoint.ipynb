{
 "cells": [
  {
   "cell_type": "code",
   "execution_count": null,
   "metadata": {},
   "outputs": [],
   "source": [
    "!pip install tf-keras-vis tensorflow"
   ]
  },
  {
   "cell_type": "code",
   "execution_count": null,
   "metadata": {},
   "outputs": [],
   "source": [
    "%reload_ext autoreload\n",
    "%autoreload 2\n",
    "\n",
    "import numpy as np\n",
    "from matplotlib import pyplot as plt\n",
    "%matplotlib inline\n",
    "\n",
    "import tensorflow as tf\n",
    "from tf_keras_vis.utils import num_of_gpus\n",
    "\n",
    "_, gpus = num_of_gpus()\n",
    "print('Tensorflow recognized {} GPUs'.format(gpus))"
   ]
  },
  {
   "cell_type": "code",
   "execution_count": null,
   "metadata": {},
   "outputs": [],
   "source": [
    "imagelabels = open(\"./data/imagenetlabels.txt\", \"r\")\n",
    "netlabels1 = imagelabels.readlines()\n",
    "netlabels = dict()\n",
    "count = 0\n",
    "for line in netlabels1:\n",
    "    if \"{\" in line:\n",
    "        line = line.replace(\"{\", \"\")\n",
    "    elif \"}\" in line:\n",
    "        line = line.replace(\"}\", \"\")\n",
    "    if \"'\" in line:\n",
    "        line = line.replace(\"'\", \"\")\n",
    "    line = line.strip()[:-1]\n",
    "    result = ''.join([i for i in line if not i.isdigit()])[2:]\n",
    "    netlabels[count] = result\n",
    "    count += 1\n",
    "\n",
    "netlabels"
   ]
  },
  {
   "cell_type": "code",
   "execution_count": null,
   "metadata": {},
   "outputs": [],
   "source": [
    "from tensorflow.keras.applications.vgg16 import VGG16 as Model\n",
    "\n",
    "model = Model(weights='imagenet', include_top=True)\n",
    "model.summary()"
   ]
  },
  {
   "cell_type": "code",
   "execution_count": null,
   "metadata": {},
   "outputs": [],
   "source": [
    "from tensorflow.keras.preprocessing.image import load_img\n",
    "from tensorflow.keras.applications.vgg16 import preprocess_input\n",
    "\n",
    "# Load images and convert to numpy array\n",
    "images = []\n",
    "num_images_jpg = 4\n",
    "num_images_png = 1\n",
    "cols = 5\n",
    "rows = 1\n",
    "for i in range(num_images_jpg):\n",
    "    images.append(load_img('./data/images/img' + str(i+1) + \".jpg\", target_size=(224, 224)))\n",
    "\n",
    "for i in range(num_images_png):\n",
    "    images.append(load_img('./data/images/img' + str(i+1) + \".png\", target_size=(224, 224)))\n",
    "\n",
    "nparrays = []\n",
    "for img in images:\n",
    "    nparrays.append(np.array(img))\n",
    "\n",
    "images = np.asarray(nparrays)\n",
    "\n",
    "# Prep for input into VGG16\n",
    "X = preprocess_input(images)"
   ]
  },
  {
   "cell_type": "code",
   "execution_count": null,
   "metadata": {},
   "outputs": [],
   "source": [
    "from tensorflow.keras.applications.vgg16 import decode_predictions\n",
    "predictions = model.predict(images)\n",
    "predictions\n",
    "labels = decode_predictions(predictions)\n",
    "\n",
    "\n",
    "true_labels = []\n",
    "accuracies = []\n",
    "for i in range(len(labels)):\n",
    "    name = labels[i][0][1]\n",
    "    if \"_\" in name:\n",
    "        name = name.replace(\"_\", \" \")\n",
    "    true_labels.append(name)\n",
    "    accuracies.append(labels[i][0][2])\n",
    "\n",
    "\n",
    "classes = []\n",
    "for label in true_labels:\n",
    "    for key, value in netlabels.items():\n",
    "        if label in value:\n",
    "            classes.append(int(key))\n",
    "            break\n",
    "print(classes)"
   ]
  },
  {
   "cell_type": "code",
   "execution_count": null,
   "metadata": {},
   "outputs": [],
   "source": [
    "# Rendering\n",
    "f, ax = plt.subplots(nrows=rows, ncols=cols, figsize=(12, 4))\n",
    "for i, title in enumerate(true_labels):\n",
    "    ax[i].set_title(title, fontsize=16)\n",
    "    ax[i].imshow(images[i])\n",
    "    ax[i].axis('off')\n",
    "plt.tight_layout()\n",
    "plt.show()"
   ]
  },
  {
   "cell_type": "code",
   "execution_count": null,
   "metadata": {},
   "outputs": [],
   "source": [
    "from tf_keras_vis.utils.model_modifiers import ReplaceToLinear\n",
    "\n",
    "replace2linear = ReplaceToLinear()\n",
    "\n",
    "# Alternative replacement function\n",
    "def model_modifier_function(cloned_model):\n",
    "    cloned_model.layers[-1].activation = tf.keras.activations.linear"
   ]
  },
  {
   "cell_type": "code",
   "execution_count": null,
   "metadata": {},
   "outputs": [],
   "source": [
    "from tf_keras_vis.utils.scores import CategoricalScore\n",
    "\n",
    "# Imagenet indices\n",
    "score = CategoricalScore(classes)"
   ]
  },
  {
   "cell_type": "code",
   "execution_count": null,
   "metadata": {},
   "outputs": [],
   "source": [
    "# Vanilla Saliency\n",
    "\n",
    "#%%time\n",
    "from tensorflow.keras import backend as K\n",
    "from tf_keras_vis.saliency import Saliency\n",
    "# from tf_keras_vis.utils import normalize\n",
    "\n",
    "# Create Saliency object.\n",
    "saliency = Saliency(model,\n",
    "                    model_modifier=replace2linear,\n",
    "                    clone=True)\n",
    "\n",
    "# Generate saliency map\n",
    "saliency_map = saliency(score, X)\n",
    "\n",
    "# saliency_map = normalize(saliency_map)\n",
    "\n",
    "# Render\n",
    "f, ax = plt.subplots(nrows=rows, ncols=cols, figsize=(12, 4))\n",
    "for i, title in enumerate(true_labels):\n",
    "    ax[i].set_title(title, fontsize=16)\n",
    "    ax[i].imshow(saliency_map[i], cmap='jet')\n",
    "    ax[i].axis('off')\n",
    "plt.tight_layout()\n",
    "plt.show()"
   ]
  },
  {
   "cell_type": "code",
   "execution_count": null,
   "metadata": {},
   "outputs": [],
   "source": [
    "# SmoothGrad\n",
    "\n",
    "#%%time\n",
    "\n",
    "# Generate saliency map with smoothing that reduce noise by adding noise\n",
    "saliency_map = saliency(score,\n",
    "                        X,\n",
    "                        smooth_samples=20, # The number of calculating gradients iterations.\n",
    "                        smooth_noise=0.20) # noise spread level.\n",
    "\n",
    "# saliency_map = normalize(saliency_map)\n",
    "\n",
    "# Render\n",
    "f, ax = plt.subplots(nrows=rows, ncols=cols, figsize=(12, 4))\n",
    "for i, title in enumerate(true_labels):\n",
    "    ax[i].set_title(title, fontsize=14)\n",
    "    ax[i].imshow(saliency_map[i], cmap='jet')\n",
    "    ax[i].axis('off')\n",
    "plt.tight_layout()\n",
    "plt.savefig('images/smoothgrad.png')\n",
    "plt.show()"
   ]
  },
  {
   "cell_type": "code",
   "execution_count": null,
   "metadata": {},
   "outputs": [],
   "source": [
    "# GradCam++\n",
    "\n",
    "#%%time\n",
    "\n",
    "from tf_keras_vis.gradcam_plus_plus import GradcamPlusPlus\n",
    "\n",
    "# Create GradCAM++ object\n",
    "gradcam = GradcamPlusPlus(model,\n",
    "                          model_modifier=replace2linear,\n",
    "                          clone=True)\n",
    "\n",
    "# Generate heatmap with GradCAM++\n",
    "cam = gradcam(score,\n",
    "              X,\n",
    "              penultimate_layer=-1)\n",
    "\n",
    "# cam = normalize(cam)\n",
    "\n",
    "# Render\n",
    "f, ax = plt.subplots(nrows=rows, ncols=cols, figsize=(12, 4))\n",
    "for i, title in enumerate(true_labels):\n",
    "    heatmap = np.uint8(cm.jet(cam[i])[..., :3] * 255)\n",
    "    ax[i].set_title(title, fontsize=16)\n",
    "    ax[i].imshow(images[i])\n",
    "    ax[i].imshow(heatmap, cmap='jet', alpha=0.5)\n",
    "    ax[i].axis('off')\n",
    "plt.tight_layout()\n",
    "plt.savefig('images/gradcam_plus_plus.png')\n",
    "plt.show()"
   ]
  },
  {
   "cell_type": "code",
   "execution_count": null,
   "metadata": {},
   "outputs": [],
   "source": [
    "# Faster-ScoreCAM\n",
    "\n",
    "#%%time\n",
    "\n",
    "from tf_keras_vis.scorecam import Scorecam\n",
    "\n",
    "# Create ScoreCAM object\n",
    "scorecam = Scorecam(model, model_modifier=replace2linear)\n",
    "\n",
    "# Generate heatmap with Faster-ScoreCAM\n",
    "cam = scorecam(score,\n",
    "               X,\n",
    "               penultimate_layer=-1,\n",
    "               max_N=10)\n",
    "\n",
    "# cam = normalize(cam)\n",
    "\n",
    "# Render\n",
    "f, ax = plt.subplots(nrows=rows, ncols=cols, figsize=(12, 4))\n",
    "for i, title in enumerate(true_labels):\n",
    "    heatmap = np.uint8(cm.jet(cam[i])[..., :3] * 255)\n",
    "    ax[i].set_title(title, fontsize=16)\n",
    "    ax[i].imshow(images[i])\n",
    "    ax[i].imshow(heatmap, cmap='jet', alpha=0.5)\n",
    "    ax[i].axis('off')\n",
    "plt.tight_layout()\n",
    "plt.show()"
   ]
  },
  {
   "cell_type": "code",
   "execution_count": null,
   "metadata": {},
   "outputs": [],
   "source": []
  }
 ],
 "metadata": {
  "kernelspec": {
   "display_name": "Python 3",
   "language": "python",
   "name": "python3"
  },
  "language_info": {
   "codemirror_mode": {
    "name": "ipython",
    "version": 3
   },
   "file_extension": ".py",
   "mimetype": "text/x-python",
   "name": "python",
   "nbconvert_exporter": "python",
   "pygments_lexer": "ipython3",
   "version": "3.7.6"
  }
 },
 "nbformat": 4,
 "nbformat_minor": 4
}
